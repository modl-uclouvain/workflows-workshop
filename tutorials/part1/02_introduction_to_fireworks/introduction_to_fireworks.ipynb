{
 "cells": [
  {
   "cell_type": "markdown",
   "id": "political-syria",
   "metadata": {},
   "source": [
    "# Introductory Tutorial\n",
    "\n",
    "In this tutorial, you will:\n",
    "\n",
    "* Add a simple workflow to the central database via a file\n",
    "\n",
    "* Run that workflow in a few modes\n",
    "\n",
    "* Get a flavor of the Python API\n",
    "\n",
    "The purpose of this tutorial is to get you set up as quickly as possible; it isn’t intended to demonstrate the features of FireWorks or explain things in great detail. This tutorial can be safely completed from the command line, and requires no programming.\n",
    "\n",
    "First, reset again the FireWorks database with ```lpad reset```.\n",
    "\n"
   ]
  },
  {
   "cell_type": "markdown",
   "id": "conceptual-subdivision",
   "metadata": {},
   "source": [
    "## Add a Firework to the LaunchPad\n",
    "\n",
    "A Firework contains a list of computing tasks (Firetasks) to be performed. For this tutorial, we will use a Firework that consists of only a single step. We’ll tackle more complex workflows in other tutorials. Our workflow consisting of one Firework and one Firetask thus looks like this:\n",
    "\n",
    "![firetask](images/single_fw.png)\n",
    "\n",
    "Let's add the firework to the database of jobs:"
   ]
  },
  {
   "cell_type": "code",
   "execution_count": null,
   "id": "shared-printing",
   "metadata": {},
   "outputs": [],
   "source": [
    "!lpad add fw_test.yaml"
   ]
  },
  {
   "cell_type": "markdown",
   "id": "conceptual-smart",
   "metadata": {},
   "source": [
    "This command added a simple workflow to the database which was serialized into a file called fw_test.yaml. This workflow is just a single step that print some text to a file. Look inside fw_test.yaml with a text editor to see how that workflow was defined:"
   ]
  },
  {
   "cell_type": "code",
   "execution_count": null,
   "id": "elect-omega",
   "metadata": {},
   "outputs": [],
   "source": [
    "!cat fw_test.yaml"
   ]
  },
  {
   "cell_type": "markdown",
   "id": "short-liberia",
   "metadata": {},
   "source": [
    "You should have received confirmation that the Firework got added. You can query the database for this Firework as follows:"
   ]
  },
  {
   "cell_type": "code",
   "execution_count": null,
   "id": "packed-sound",
   "metadata": {},
   "outputs": [],
   "source": [
    "!lpad get_fws -i 1 -d all"
   ]
  },
  {
   "cell_type": "markdown",
   "id": "great-divide",
   "metadata": {},
   "source": [
    "This prints, in JSON format, all details of the Firework with fw_id = 1 (the first Firework entered into the database):\n",
    "\n",
    "Some of the Firework is straightforward, but a few sections deserve further explanation:\n",
    "\n",
    "The spec of the Firework contains all the information about what job to run and the parameters needed to run it.\n",
    "\n",
    "Within the spec, the _tasks section tells you what jobs will run. The ScriptTask is a particular type of task that runs commands through the shell. Other sections of the spec can be also be defined, but for now we’ll stick to just _tasks. Later on, we’ll describe how to run multiple _tasks or customized _tasks.\n",
    "\n",
    "This Firework runs the script echo \"howdy, your job launched successfully!\" >> howdy.txt\", which prints text to a file named howdy.txt.\n",
    "\n",
    "The state of READY means the Firework is ready to be run.\n",
    "\n",
    "The name is an optional field that we can set to help query for FireWorks later on. In this case, we did not specify one so a default name was used.\n",
    "You have now stored a Firework in the LaunchPad, and it’s ready to run!"
   ]
  },
  {
   "cell_type": "markdown",
   "id": "textile-chinese",
   "metadata": {},
   "source": [
    "## Launch jobs\n",
    "\n",
    "We can launch jobs using ```rlaunch``` (\"Rocket\" launch) command:"
   ]
  },
  {
   "cell_type": "code",
   "execution_count": null,
   "id": "committed-cardiff",
   "metadata": {},
   "outputs": [],
   "source": [
    "!rlaunch singleshot"
   ]
  },
  {
   "cell_type": "markdown",
   "id": "united-banner",
   "metadata": {},
   "source": [
    "This command fetches an available Firework from the FireWorks database and runs it.\n",
    "\n",
    "Verify that the desired task ran:"
   ]
  },
  {
   "cell_type": "code",
   "execution_count": null,
   "id": "hungry-correlation",
   "metadata": {},
   "outputs": [],
   "source": [
    "!cat howdy.txt"
   ]
  },
  {
   "cell_type": "markdown",
   "id": "increasing-absence",
   "metadata": {},
   "source": [
    "You should see the text: \"howdy, your job launched successfully!\"\n",
    "\n",
    "In addition to howdy.txt, you should also see a file called FW.json. This contains a JSON representation of the Firework that the Rocket ran and can be useful later for tracking down a launch or debugging.\n",
    "\n",
    "Check the status of your Firework:"
   ]
  },
  {
   "cell_type": "code",
   "execution_count": null,
   "id": "interstate-glossary",
   "metadata": {
    "scrolled": true
   },
   "outputs": [],
   "source": [
    "!lpad get_fws -i 1 -d all"
   ]
  },
  {
   "cell_type": "markdown",
   "id": "excellent-moldova",
   "metadata": {},
   "source": [
    "You will now see lots of information about your Rocket launch, such as the time and directory of the launch. A lot of it is probably unclear, but you should notice that the state of the Firework is now COMPLETED.\n",
    "\n",
    "Try launching another rocket:"
   ]
  },
  {
   "cell_type": "code",
   "execution_count": null,
   "id": "every-setting",
   "metadata": {
    "scrolled": true
   },
   "outputs": [],
   "source": [
    "!rlaunch singleshot"
   ]
  },
  {
   "cell_type": "markdown",
   "id": "distinguished-marble",
   "metadata": {},
   "source": [
    "The message \"No FireWorks are ready to run and match query!\" indicates that it tried to fetch a Firework from the database, but none could be found. Indeed, we had previously run the only Firework that was in the database.\n",
    "\n",
    "## Launch many Rockets (rapidfire mode)\n",
    "\n",
    "If you just want to run many jobs on the central server itself, the simplest way is to run the Rocket Launcher in “rapidfire mode”. Let’s try this feature:\n",
    "\n",
    "Let’s add a Fireworks 3 times:"
   ]
  },
  {
   "cell_type": "code",
   "execution_count": null,
   "id": "limited-stewart",
   "metadata": {},
   "outputs": [],
   "source": [
    "!lpad add fw_test.yaml"
   ]
  },
  {
   "cell_type": "markdown",
   "id": "breeding-delaware",
   "metadata": {},
   "source": [
    "Confirm that the three Fireworks got added to the database, in addition to the one from before (4 total):"
   ]
  },
  {
   "cell_type": "code",
   "execution_count": null,
   "id": "exceptional-bradley",
   "metadata": {
    "scrolled": true
   },
   "outputs": [],
   "source": [
    "!lpad get_fws -d less"
   ]
  },
  {
   "cell_type": "markdown",
   "id": "thousand-guitar",
   "metadata": {},
   "source": [
    "We could also just get information for jobs that are ready to run (our 3 new FireWorks):"
   ]
  },
  {
   "cell_type": "code",
   "execution_count": null,
   "id": "packed-worse",
   "metadata": {
    "scrolled": true
   },
   "outputs": [],
   "source": [
    "!lpad get_fws -s READY -d less"
   ]
  },
  {
   "cell_type": "markdown",
   "id": "small-murder",
   "metadata": {},
   "source": [
    "Let’s launch jobs in “rapidfire” mode, which will keep repeating until we run out of Fireworks to run:"
   ]
  },
  {
   "cell_type": "code",
   "execution_count": null,
   "id": "double-contrary",
   "metadata": {
    "scrolled": true
   },
   "outputs": [],
   "source": [
    "!rlaunch rapidfire"
   ]
  },
  {
   "cell_type": "markdown",
   "id": "stretch-knife",
   "metadata": {},
   "source": [
    "You should see three directories starting with the tag launcher_. Inside each of these directories, you’ll find the results of one of your FireWorks (a file named howdy.txt):"
   ]
  },
  {
   "cell_type": "code",
   "execution_count": null,
   "id": "documentary-acrobat",
   "metadata": {
    "scrolled": true
   },
   "outputs": [],
   "source": [
    "!cat launch*/howdy.txt"
   ]
  },
  {
   "cell_type": "markdown",
   "id": "received-immune",
   "metadata": {},
   "source": [
    "## Running FireWorks automatically\n",
    "\n",
    "We can set our Launcher to continuously look for new FireWorks to run. Let’s try this feature.\n",
    "\n",
    "Start the Launcher in a terminal so that it looks for new FireWorks every 10 seconds:\n",
    "\n",
    "```rlaunch rapidfire --nlaunches infinite --sleep 10```\n",
    "\n",
    "Let’s insert two FireWorks:"
   ]
  },
  {
   "cell_type": "code",
   "execution_count": null,
   "id": "generic-istanbul",
   "metadata": {},
   "outputs": [],
   "source": [
    "!lpad add fw_test.yaml"
   ]
  },
  {
   "cell_type": "markdown",
   "id": "beneficial-methodology",
   "metadata": {},
   "source": [
    "After a few seconds, the Rocket Launcher should have picked up the new jobs and run them. Confirm this is the case:"
   ]
  },
  {
   "cell_type": "code",
   "execution_count": null,
   "id": "square-telling",
   "metadata": {},
   "outputs": [],
   "source": [
    "!cat launch*/howdy.txt"
   ]
  },
  {
   "cell_type": "markdown",
   "id": "unnecessary-projector",
   "metadata": {},
   "source": [
    "You should see the outputs for each Firework we inserted.\n",
    "\n",
    "You can continue adding FireWorks as desired; the Launcher will run them automatically and create a new directory for each job.\n",
    "\n",
    "As with all FireWorks scripts, you can run the built-in help for more information:\n",
    "\n",
    "```rlaunch -h\n",
    "rlaunch singleshot -h\n",
    "rlaunch rapidfire -h```"
   ]
  },
  {
   "cell_type": "markdown",
   "id": "wanted-tourist",
   "metadata": {},
   "source": [
    "## What just happened?\n",
    "\n",
    "It’s important to understand that when you add a Firework to the LaunchPad using the lpad script, the job just sits in the database and waits. The LaunchPad does not submit jobs to a computing resource when a new Firework is added to the LaunchPad. Rather, a computing resource must request a computing task by running the Launcher.\n",
    "\n",
    "By running the Launcher from different locations, you can have different computing resources run your jobs. Using rapidfire mode is a convenient way of requesting multiple jobs using a single command.\n",
    "\n",
    "\n",
    "## Python Examples\n",
    "\n",
    "While it’s possible to work operate FireWorks using YAML or JSON files, a much cleaner mode of operation is to use Python scripts. For example, here is a runnable script that creates our LaunchPad, defines our test Workflow, and runs it:"
   ]
  },
  {
   "cell_type": "code",
   "execution_count": null,
   "id": "sunrise-lecture",
   "metadata": {},
   "outputs": [],
   "source": [
    "from fireworks import Firework, LaunchPad, ScriptTask\n",
    "from fireworks.core.rocket_launcher import launch_rocket\n",
    "\n",
    "# set up the LaunchPad and reset it\n",
    "launchpad = LaunchPad.auto_load()\n",
    "launchpad.reset('', require_password=False)\n",
    "\n",
    "# create the Firework consisting of a single task\n",
    "firetask = ScriptTask.from_str('echo \"howdy, your job launched successfully!\"')\n",
    "firework = Firework(firetask)\n",
    "\n",
    "# store workflow and launch it locally\n",
    "launchpad.add_wf(firework)\n",
    "launch_rocket(launchpad)"
   ]
  },
  {
   "cell_type": "markdown",
   "id": "temporal-venice",
   "metadata": {},
   "source": [
    "## Summary\n",
    "\n",
    "At this point, you’ve successfully stored a simple job in a database and run it later on command. You even executed multiple jobs with a single command: rlaunch rapidfire, and looked for new jobs automatically using the infinite mode. This should give a basic feeling of how you can automate many jobs using FireWorks.\n",
    "\n",
    "However, we still haven’t covered many important topics. For example, we have not executed complex workflows (and in particular materials science workflows), run arbitrary Python code, or run jobs on different types of computing resources."
   ]
  }
 ],
 "metadata": {
  "kernelspec": {
   "display_name": "Python 3",
   "language": "python",
   "name": "python3"
  },
  "language_info": {
   "codemirror_mode": {
    "name": "ipython",
    "version": 3
   },
   "file_extension": ".py",
   "mimetype": "text/x-python",
   "name": "python",
   "nbconvert_exporter": "python",
   "pygments_lexer": "ipython3",
   "version": "3.8.8"
  }
 },
 "nbformat": 4,
 "nbformat_minor": 5
}
