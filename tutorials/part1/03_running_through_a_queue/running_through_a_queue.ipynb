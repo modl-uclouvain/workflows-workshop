{
 "cells": [
  {
   "cell_type": "markdown",
   "id": "twelve-medication",
   "metadata": {},
   "source": [
    "# Launch Rockets through a queue\n",
    "\n",
    "## SLURM\n",
    "\n",
    "For this tutorial, SLURM has been installed and configured in the docker. You can run standard SLURM commands:\n",
    "\n",
    "We can submit a job to the queue, e.g. the following job.sh sleep job\n",
    "\n",
    "\n"
   ]
  },
  {
   "cell_type": "code",
   "execution_count": null,
   "id": "raised-ballet",
   "metadata": {},
   "outputs": [],
   "source": [
    "!squeue"
   ]
  },
  {
   "cell_type": "markdown",
   "id": "bizarre-genealogy",
   "metadata": {},
   "source": [
    "We can submit a job to the queue, e.g. the following job.sh sleep job:"
   ]
  },
  {
   "cell_type": "code",
   "execution_count": null,
   "id": "chief-protein",
   "metadata": {},
   "outputs": [],
   "source": [
    "!cat job.sh"
   ]
  },
  {
   "cell_type": "code",
   "execution_count": null,
   "id": "sixth-murray",
   "metadata": {},
   "outputs": [],
   "source": [
    "!sbatch job.sh"
   ]
  },
  {
   "cell_type": "markdown",
   "id": "naughty-anchor",
   "metadata": {},
   "source": [
    "## A few explanations\n",
    "\n",
    "The simplest way to execute jobs through a queue would be to write a templated queue file and then submit it as a two-task Firework, as in the Firetask tutorial. However, FireWorks then considers your “job” to only be queue submission, and will consider the job completed after the queue submission is complete. FireWorks will not know when the actual payload starts running, or is finished, or if the job finishes successfully. Thus, many of the useful management and monitoring features of FireWorks will not be available to you.\n",
    "\n",
    "A more powerful way to execute jobs through a queue is presented in this tutorial. In this method, the queue file runs rlaunch instead of running your desired program. This method is just like typing rlaunch into a Terminal window like in the core tutorials, except that now we are submitting a queue script that does the typing for us (it’s very low-tech!). In particular, FireWorks is completely unaware that you are running through a queue!\n",
    "\n",
    "The jobs we will submit to the queue are basically placeholder jobs that are asleep until the job starts running. When the job is actually assigned computer resources and runs, the script “wakes” up and runs the Rocket Launcher, which then figures out what Firework to run.\n",
    "\n",
    "The advantage of this low-tech system is that it is quite durable; if your queue system goes down or you delete a job from the queue, there are zero repercussions. You don’t have to tell FireWorks to run those jobs somewhere else, because FireWorks never knew about your queue in the first place. In addition, if you are running on multiple machines and the queue becomes backlogged on one of them, it does not matter at all. Your submission job stuck in the queue is not preventing high-priority jobs from running on other machines.\n",
    "\n",
    "## Launch jobs\n",
    "\n",
    "This submission procedure is already configured in this tutorial and you just need to issue the ```qlaunch``` command.\n",
    "\n",
    "Let’s reset our database and add a new Firework:"
   ]
  },
  {
   "cell_type": "code",
   "execution_count": null,
   "id": "demographic-pitch",
   "metadata": {},
   "outputs": [],
   "source": [
    "!lpad add_scripts 'echo \"hello\" > hello_goodbye.txt; sleep 20; echo \"goodbye\" >> hello_goodbye.txt' -n hello"
   ]
  },
  {
   "cell_type": "markdown",
   "id": "essential-blogger",
   "metadata": {},
   "source": [
    "## Submit a job\n",
    "\n",
    "Use the ```qlaunch``` command to submit a job:\n"
   ]
  },
  {
   "cell_type": "code",
   "execution_count": null,
   "id": "double-block",
   "metadata": {},
   "outputs": [],
   "source": [
    "!qlaunch singleshot"
   ]
  },
  {
   "cell_type": "markdown",
   "id": "modified-contractor",
   "metadata": {},
   "source": [
    "This should have submitted a job to the queue in the current directory. You can read the log files in the logging directory, and/or check the status of your queue to ensure your job appeared.\n",
    "\n",
    "After your queue manager runs your job, you should see the file hello_goodbye.txt in the current directory.\n",
    "\n",
    "## Submitting many jobs using rapid-fire mode\n",
    "\n",
    "While launching a single job to a queue is nice, a more powerful use case is to submit a large number of jobs at once, or to maintain a certain number of jobs in the queue. Like the Rocket Launcher, the Queue Launcher can be run in a “rapid-fire” mode that provides these features.\n",
    "\n",
    "Let’s reset our database and add three new FireWorks:"
   ]
  },
  {
   "cell_type": "code",
   "execution_count": null,
   "id": "noted-globe",
   "metadata": {},
   "outputs": [],
   "source": [
    "!lpad add_scripts 'echo \"hello\" > hello_goodbye.txt; sleep 5; echo \"goodbye\" >> hello_goodbye.txt' -n hello"
   ]
  },
  {
   "cell_type": "markdown",
   "id": "suitable-concentration",
   "metadata": {},
   "source": [
    "Submit several jobs with a single command:"
   ]
  },
  {
   "cell_type": "code",
   "execution_count": null,
   "id": "assumed-vehicle",
   "metadata": {
    "scrolled": true
   },
   "outputs": [],
   "source": [
    "!qlaunch rapidfire -m 3"
   ]
  },
  {
   "cell_type": "markdown",
   "id": "verbal-ending",
   "metadata": {},
   "source": [
    "Note: The Queue Launcher sleeps between each job submission to give time for the queue manager to ‘breathe’. It might take a few minutes to submit all the jobs.\n",
    "\n",
    "Note2: The command above submits jobs until you have at most 3 jobs in the queue under your username. If you had some jobs existing in the queue before running this command, you might need to increase the -m parameter.\n",
    "\n",
    "The rapid-fire command should have created a directory beginning with the tag block_. Navigate inside this directory, and confirm that three directories starting with the tag launch were created. The launch directories contain your individual jobs.\n",
    "\n",
    "There are other options to submit jobs to a queue, submitting multiple fireworks in the same queue job. See the FireWorks documentation."
   ]
  }
 ],
 "metadata": {
  "kernelspec": {
   "display_name": "Python 3",
   "language": "python",
   "name": "python3"
  },
  "language_info": {
   "codemirror_mode": {
    "name": "ipython",
    "version": 3
   },
   "file_extension": ".py",
   "mimetype": "text/x-python",
   "name": "python",
   "nbconvert_exporter": "python",
   "pygments_lexer": "ipython3",
   "version": "3.8.8"
  }
 },
 "nbformat": 4,
 "nbformat_minor": 5
}
