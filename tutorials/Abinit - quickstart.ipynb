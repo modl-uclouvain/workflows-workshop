{
 "cells": [
  {
   "cell_type": "markdown",
   "id": "exempt-cloud",
   "metadata": {},
   "source": [
    "# Abinit - quickstart\n",
    "\n",
    "https://abinit.github.io/abipy/flow_gallery/run_sic_relax.html#sphx-glr-flow-gallery-run-sic-relax-py"
   ]
  },
  {
   "cell_type": "code",
   "execution_count": null,
   "id": "necessary-budapest",
   "metadata": {
    "scrolled": false
   },
   "outputs": [],
   "source": [
    "!abicheck.py"
   ]
  },
  {
   "cell_type": "markdown",
   "id": "chronic-invention",
   "metadata": {},
   "source": [
    "## Relaxation Flow\n",
    "\n",
    "This example shows how to build a very simple Flow for the structural relaxation of SiC. One could use a similar logic to perform multiple relaxations with different input parameters…\n",
    "\n"
   ]
  },
  {
   "cell_type": "code",
   "execution_count": null,
   "id": "handmade-dividend",
   "metadata": {},
   "outputs": [],
   "source": [
    "import abipy.abilab as abilab\n",
    "import abipy.data as data\n",
    "import abipy.flowtk as flowtk\n",
    "\n",
    "\n",
    "def build_flow(workdir):\n",
    "\n",
    "    pseudos = data.pseudos(\"14si.pspnc\", \"6c.pspnc\")\n",
    "    structure = data.structure_from_ucell(\"SiC\")\n",
    "\n",
    "    # Initialize the input\n",
    "    relax_inp = abilab.AbinitInput(structure, pseudos=pseudos)\n",
    "\n",
    "    # Set variables\n",
    "    relax_inp.set_vars(\n",
    "        ecut=20,\n",
    "        paral_kgb=1,\n",
    "        iomode=3,\n",
    "        # Relaxation part\n",
    "        ionmov=2,\n",
    "        optcell=1,\n",
    "        strfact=100,\n",
    "        ecutsm=0.5,       # Important!\n",
    "        dilatmx=1.15,     # Important!\n",
    "        toldff=1e-6,\n",
    "        tolmxf=1e-5,\n",
    "        ntime=100,\n",
    "    )\n",
    "\n",
    "    # K-points sampling\n",
    "    shiftk = [\n",
    "        [0.5,0.5,0.5],\n",
    "        [0.5,0.0,0.0],\n",
    "        [0.0,0.5,0.0],\n",
    "        [0.0,0.0,0.5]\n",
    "    ]\n",
    "    relax_inp.set_kmesh(ngkpt=[4, 4, 4], shiftk=shiftk)\n",
    "\n",
    "    # Initialize the flow\n",
    "    flow = flowtk.Flow(workdir)\n",
    "\n",
    "    # Register the task.\n",
    "    flow.register_relax_task(relax_inp)\n",
    "\n",
    "    return flow"
   ]
  },
  {
   "cell_type": "markdown",
   "id": "related-music",
   "metadata": {},
   "source": [
    "Build and run the flow:"
   ]
  },
  {
   "cell_type": "code",
   "execution_count": null,
   "id": "steady-fellowship",
   "metadata": {},
   "outputs": [],
   "source": [
    "flow = build_flow('flow_sic_relax')\n",
    "\n",
    "scheduler = flow.make_scheduler()\n",
    "scheduler.start()\n"
   ]
  },
  {
   "cell_type": "markdown",
   "id": "confirmed-space",
   "metadata": {},
   "source": [
    "To visualize the evolution of the lattice parameters during the structura relaxation use:"
   ]
  },
  {
   "cell_type": "code",
   "execution_count": null,
   "id": "raising-valuable",
   "metadata": {},
   "outputs": [],
   "source": [
    "abifile = abilab.abiopen('flow_sic_relax/w0/t0/outdata/out_HIST.nc')\n",
    "abifile.plot();"
   ]
  },
  {
   "cell_type": "code",
   "execution_count": null,
   "id": "changing-bennett",
   "metadata": {},
   "outputs": [],
   "source": []
  },
  {
   "cell_type": "code",
   "execution_count": null,
   "id": "passing-mineral",
   "metadata": {},
   "outputs": [],
   "source": []
  },
  {
   "cell_type": "code",
   "execution_count": null,
   "id": "prescribed-mexico",
   "metadata": {},
   "outputs": [],
   "source": []
  }
 ],
 "metadata": {
  "kernelspec": {
   "display_name": "Python 3",
   "language": "python",
   "name": "python3"
  },
  "language_info": {
   "codemirror_mode": {
    "name": "ipython",
    "version": 3
   },
   "file_extension": ".py",
   "mimetype": "text/x-python",
   "name": "python",
   "nbconvert_exporter": "python",
   "pygments_lexer": "ipython3",
   "version": "3.8.6"
  }
 },
 "nbformat": 4,
 "nbformat_minor": 5
}
