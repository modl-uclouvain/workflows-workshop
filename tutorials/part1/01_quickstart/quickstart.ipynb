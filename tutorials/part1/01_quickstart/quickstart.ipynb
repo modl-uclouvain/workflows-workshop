{
 "cells": [
  {
   "cell_type": "markdown",
   "id": "northern-young",
   "metadata": {},
   "source": [
    "# Five-minute quickstart\n",
    "\n",
    "In this quickstart, you will:\n",
    "\n",
    "* Add a simple workflow to the central database via the command line\n",
    "* Run that workflow\n",
    "* Monitor your job status with the FireWorks database\n",
    "* Get a flavor of the Python API\n",
    "\n",
    "\n",
    "## Start FireWorks\n",
    "\n",
    "A MongoDB database (containing the FireWorks database) is running in your docker.\n",
    "\n",
    "Reset/Initialize the FireWorks database (the LaunchPad) using the command line:\n",
    "\n",
    "```lpad reset```\n",
    "\n",
    "Note: All FireWorks commands come with built-in help. For example, type lpad -h or lpad reset -h. There often exist many different options for each command.\n",
    "\n",
    "Note2: Resetting the FireWorks removes all your workflows and jobs from your database. During this tutorial, you may use this \"often\" but when you are in production and actually using FireWorks, you will most likely almost never use this reset.\n",
    "\n",
    "\n",
    "\n",
    "## Add a Workflow\n",
    "\n",
    "There are many ways to add Workflows to the database, including a Python API. Let’s start with an extremely simple example that can be added via the command line:\n",
    "\n"
   ]
  },
  {
   "cell_type": "code",
   "execution_count": null,
   "id": "amended-jimmy",
   "metadata": {},
   "outputs": [],
   "source": [
    "!lpad add_scripts 'echo \"hello\"' 'echo \"goodbye\"' -n hello goodbye -w test_workflow"
   ]
  },
  {
   "cell_type": "markdown",
   "id": "necessary-potato",
   "metadata": {},
   "source": [
    "This added a two-job linear workflow. The first jobs prints hello to the command line, and the second job prints goodbye. We gave names (optional) to each step as “hello” and “goodbye”. We named the workflow overall (optional) as “test_workflow”.\n",
    "\n",
    "Let’s look at our test workflow:"
   ]
  },
  {
   "cell_type": "code",
   "execution_count": null,
   "id": "opponent-strip",
   "metadata": {},
   "outputs": [],
   "source": [
    "!lpad get_wflows -n test_workflow -d more"
   ]
  },
  {
   "cell_type": "markdown",
   "id": "deadly-gravity",
   "metadata": {},
   "source": [
    "We get back basic information on our workflows. The second step “goodbye” is waiting for the first one to complete; it is not ready to run because it depends on the first job.\n",
    "\n",
    "\n",
    "## Run all Workflows\n",
    "\n",
    "You can run jobs one at a time (“singleshot”) or all at once (“rapidfire”). Let’s run all jobs:"
   ]
  },
  {
   "cell_type": "code",
   "execution_count": null,
   "id": "destroyed-flooring",
   "metadata": {},
   "outputs": [],
   "source": [
    "!rlaunch rapidfire"
   ]
  },
  {
   "cell_type": "markdown",
   "id": "pressing-spiritual",
   "metadata": {},
   "source": [
    "Clearly, both steps of our workflow ran in the correct order.\n",
    "\n",
    "Let’s again look at our workflows:"
   ]
  },
  {
   "cell_type": "code",
   "execution_count": null,
   "id": "presidential-macintosh",
   "metadata": {},
   "outputs": [],
   "source": [
    "!lpad get_wflows -n test_workflow -d more"
   ]
  },
  {
   "cell_type": "markdown",
   "id": "designing-bruce",
   "metadata": {},
   "source": [
    "FireWorks automatically created launcher_ directories for each step in the Workflow and ran them. We see that both steps are complete. Note that there exist options to choose where to run jobs, as well as to tear down empty directories after running jobs.\n",
    "\n",
    "\n",
    "## Look at the web GUI\n",
    "\n",
    "If you have a web browser, you can launch the web GUI to see your workflows using ```lpad webgui```. In this tutorial, the web GUI is directly integrated in the jupyter:\n",
    "\n",
    "\n",
    "## Python code\n",
    "\n",
    "The following Python code achieves the same behavior:"
   ]
  },
  {
   "cell_type": "code",
   "execution_count": null,
   "id": "black-avatar",
   "metadata": {
    "scrolled": true
   },
   "outputs": [],
   "source": [
    "from fireworks import Firework, Workflow, LaunchPad, ScriptTask\n",
    "from fireworks.core.rocket_launcher import rapidfire\n",
    "\n",
    "# set up the LaunchPad and reset it\n",
    "launchpad = LaunchPad.auto_load()\n",
    "launchpad.reset('', require_password=False)\n",
    "\n",
    "# create the individual FireWorks and Workflow\n",
    "fw1 = Firework(ScriptTask.from_str('echo \"hello\"'), name=\"hello\")\n",
    "fw2 = Firework(ScriptTask.from_str('echo \"goodbye\"'), name=\"goodbye\")\n",
    "wf = Workflow([fw1, fw2], {fw1:fw2}, name=\"test workflow\")\n",
    "\n",
    "# store workflow and launch it locally\n",
    "launchpad.add_wf(wf)\n",
    "rapidfire(launchpad)"
   ]
  }
 ],
 "metadata": {
  "kernelspec": {
   "display_name": "Python 3",
   "language": "python",
   "name": "python3"
  },
  "language_info": {
   "codemirror_mode": {
    "name": "ipython",
    "version": 3
   },
   "file_extension": ".py",
   "mimetype": "text/x-python",
   "name": "python",
   "nbconvert_exporter": "python",
   "pygments_lexer": "ipython3",
   "version": "3.8.8"
  }
 },
 "nbformat": 4,
 "nbformat_minor": 5
}
