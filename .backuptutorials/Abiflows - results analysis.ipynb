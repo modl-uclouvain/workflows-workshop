{
 "cells": [
  {
   "cell_type": "code",
   "execution_count": null,
   "id": "realistic-humanity",
   "metadata": {},
   "outputs": [],
   "source": [
    "from abiflows.database.mongoengine.utils import DatabaseData\n",
    "from pymatgen.core import Structure\n",
    "from abiflows.database.mongoengine.abinit_results import RelaxResult, DfptResult\n",
    "from jupyter_jsmol.pymatgen import quick_view"
   ]
  },
  {
   "cell_type": "code",
   "execution_count": null,
   "id": "martial-football",
   "metadata": {},
   "outputs": [],
   "source": [
    "%matplotlib notebook"
   ]
  },
  {
   "cell_type": "code",
   "execution_count": null,
   "id": "altered-outdoors",
   "metadata": {},
   "outputs": [],
   "source": [
    "db = DatabaseData(host='mongo', port=27017, collection='relax',\n",
    "                  database='fireworks', username=None, password=None)\n",
    "db.connect_mongoengine()"
   ]
  },
  {
   "cell_type": "code",
   "execution_count": null,
   "id": "proprietary-humidity",
   "metadata": {},
   "outputs": [],
   "source": [
    "with db.switch_collection(RelaxResult) as RelaxResult:\n",
    "    relaxed_results = RelaxResult.objects(mp_id=\"mp-149\")\n",
    "    relaxed = relaxed_results[0]"
   ]
  },
  {
   "cell_type": "code",
   "execution_count": null,
   "id": "useful-indicator",
   "metadata": {},
   "outputs": [],
   "source": [
    "# load the relaxed Structure\n",
    "structure = Structure.from_dict(relaxed.abinit_output.structure)"
   ]
  },
  {
   "cell_type": "code",
   "execution_count": null,
   "id": "going-agent",
   "metadata": {},
   "outputs": [],
   "source": [
    "quick_view(structure)"
   ]
  },
  {
   "cell_type": "code",
   "execution_count": null,
   "id": "suitable-czech",
   "metadata": {},
   "outputs": [],
   "source": [
    "gsr = relaxed.abinit_output.gsr.abiopen()\n",
    "print(gsr)"
   ]
  },
  {
   "cell_type": "code",
   "execution_count": null,
   "id": "swedish-poison",
   "metadata": {},
   "outputs": [],
   "source": [
    "fig = gsr.plot_bz()"
   ]
  },
  {
   "cell_type": "code",
   "execution_count": null,
   "id": "proved-endorsement",
   "metadata": {},
   "outputs": [],
   "source": [
    "db.collection = \"phonon\"\n",
    "with db.switch_collection(DfptResult) as DfptResult:\n",
    "    ph_results = DfptResult.objects()\n",
    "    ph_res = ph_results[0]"
   ]
  },
  {
   "cell_type": "code",
   "execution_count": null,
   "id": "narrative-religion",
   "metadata": {},
   "outputs": [],
   "source": [
    "ddb = ph_res.abinit_output.ddb.abiopen()"
   ]
  },
  {
   "cell_type": "code",
   "execution_count": null,
   "id": "antique-ceremony",
   "metadata": {},
   "outputs": [],
   "source": [
    "phb = ddb.anaget_phmodes_at_qpoint([0,0,0])"
   ]
  },
  {
   "cell_type": "code",
   "execution_count": null,
   "id": "cutting-hopkins",
   "metadata": {},
   "outputs": [],
   "source": [
    "phb.phfreqs"
   ]
  },
  {
   "cell_type": "code",
   "execution_count": null,
   "id": "ambient-glossary",
   "metadata": {},
   "outputs": [],
   "source": [
    "phbst, phdos = ddb.anaget_phbst_and_phdos_files(line_density=10)"
   ]
  },
  {
   "cell_type": "code",
   "execution_count": null,
   "id": "electric-narrative",
   "metadata": {},
   "outputs": [],
   "source": [
    "fig = phbst.plot_phbands()"
   ]
  },
  {
   "cell_type": "code",
   "execution_count": null,
   "id": "comparative-pacific",
   "metadata": {},
   "outputs": [],
   "source": [
    "phbst.phbands.create_phononwebsite_json(\"/home/jovyan/Si_phononwebsite.json\")"
   ]
  },
  {
   "cell_type": "markdown",
   "id": "electric-second",
   "metadata": {},
   "source": [
    "Download the Si_phononwebsite.json file on your local machine and upload it on the following website to display the atomic displacents associated to the phonon modes: http://henriquemiranda.github.io/phononwebsite/phonon.html"
   ]
  }
 ],
 "metadata": {
  "kernelspec": {
   "display_name": "Python 3",
   "language": "python",
   "name": "python3"
  },
  "language_info": {
   "codemirror_mode": {
    "name": "ipython",
    "version": 3
   },
   "file_extension": ".py",
   "mimetype": "text/x-python",
   "name": "python",
   "nbconvert_exporter": "python",
   "pygments_lexer": "ipython3",
   "version": "3.8.8"
  }
 },
 "nbformat": 4,
 "nbformat_minor": 5
}
