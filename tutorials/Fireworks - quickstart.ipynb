{
 "cells": [
  {
   "cell_type": "markdown",
   "id": "metallic-supervisor",
   "metadata": {},
   "source": [
    "# Fireworks (Five-minute quickstart)\n",
    "\n",
    "https://materialsproject.github.io/fireworks/quickstart.html"
   ]
  },
  {
   "cell_type": "markdown",
   "id": "australian-firewall",
   "metadata": {},
   "source": [
    "Testing mongodb connection:"
   ]
  },
  {
   "cell_type": "code",
   "execution_count": null,
   "id": "referenced-routine",
   "metadata": {},
   "outputs": [],
   "source": [
    "import pymongo\n",
    "client = pymongo.MongoClient(\n",
    "    host='mongo',\n",
    "    username='',\n",
    "    password='',\n",
    "    authSource='admin'\n",
    ")\n",
    "client.list_database_names()"
   ]
  },
  {
   "cell_type": "markdown",
   "id": "gorgeous-curve",
   "metadata": {},
   "source": [
    "## Start FireWorks\n",
    "\n",
    "If not already running, start MongoDB (if your MongoDB is hosted and maintained externally, follow the note below regarding lpad init):\n"
   ]
  },
  {
   "cell_type": "code",
   "execution_count": null,
   "id": "electronic-essex",
   "metadata": {},
   "outputs": [],
   "source": [
    "# !lpad init "
   ]
  },
  {
   "cell_type": "code",
   "execution_count": null,
   "id": "increasing-context",
   "metadata": {},
   "outputs": [],
   "source": [
    "!cat my_launchpad.yaml"
   ]
  },
  {
   "cell_type": "markdown",
   "id": "white-owner",
   "metadata": {},
   "source": [
    "Reset/Initialize the FireWorks database (the LaunchPad):"
   ]
  },
  {
   "cell_type": "code",
   "execution_count": null,
   "id": "entertaining-scotland",
   "metadata": {
    "scrolled": true
   },
   "outputs": [],
   "source": [
    "! echo 'y' | lpad reset"
   ]
  },
  {
   "cell_type": "markdown",
   "id": "numerous-regard",
   "metadata": {},
   "source": [
    "## Add a Workflow\n",
    "\n",
    "There are many ways to add Workflows to the database, including a Python API. Let’s start with an extremely simple example that can be added via the command line:"
   ]
  },
  {
   "cell_type": "code",
   "execution_count": null,
   "id": "square-primary",
   "metadata": {},
   "outputs": [],
   "source": [
    "!lpad add_scripts 'echo \"hello\"' 'echo \"goodbye\"' -n hello goodbye -w test_workflow"
   ]
  },
  {
   "cell_type": "markdown",
   "id": "manufactured-bernard",
   "metadata": {},
   "source": [
    "This added a two-job linear workflow. The first jobs prints hello to the command line, and the second job prints goodbye. We gave names (optional) to each step as “hello” and “goodbye”. We named the workflow overall (optional) as “test_workflow”."
   ]
  },
  {
   "cell_type": "markdown",
   "id": "mounted-audio",
   "metadata": {},
   "source": [
    "Let’s look at our test workflow:\n"
   ]
  },
  {
   "cell_type": "code",
   "execution_count": null,
   "id": "identical-international",
   "metadata": {},
   "outputs": [],
   "source": [
    "!lpad get_wflows -n test_workflow -d more"
   ]
  },
  {
   "cell_type": "markdown",
   "id": "fuzzy-intellectual",
   "metadata": {},
   "source": [
    "We get back basic information on our workflows. The second step “goodbye” is waiting for the first one to complete; it is not ready to run because it depends on the first job.\n"
   ]
  },
  {
   "cell_type": "markdown",
   "id": "useful-reviewer",
   "metadata": {},
   "source": [
    "## Run all Workflows\n",
    "\n",
    "You can run jobs one at a time (“singleshot”) or all at once (“rapidfire”). Let’s run all jobs:"
   ]
  },
  {
   "cell_type": "code",
   "execution_count": null,
   "id": "excess-chosen",
   "metadata": {},
   "outputs": [],
   "source": [
    "!rlaunch --silencer rapidfire"
   ]
  },
  {
   "cell_type": "markdown",
   "id": "dedicated-commerce",
   "metadata": {},
   "source": [
    "Clearly, both steps of our workflow ran in the correct order."
   ]
  },
  {
   "cell_type": "markdown",
   "id": "joined-antique",
   "metadata": {},
   "source": [
    "Let’s again look at our workflows:\n"
   ]
  },
  {
   "cell_type": "code",
   "execution_count": null,
   "id": "conditional-henry",
   "metadata": {},
   "outputs": [],
   "source": [
    "!lpad get_wflows -n test_workflow -d more"
   ]
  },
  {
   "cell_type": "markdown",
   "id": "lucky-failing",
   "metadata": {},
   "source": [
    "\n",
    "FireWorks automatically created launcher_ directories for each step in the Workflow and ran them. We see that both steps are complete. Note that there exist options to choose where to run jobs, as well as to tear down empty directories after running jobs.\n",
    "\n"
   ]
  },
  {
   "cell_type": "markdown",
   "id": "forward-client",
   "metadata": {},
   "source": [
    "## Launch the web GUI\n",
    "If you have a web browser, you can launch the web GUI to see your results:"
   ]
  },
  {
   "cell_type": "code",
   "execution_count": null,
   "id": "anticipated-patrol",
   "metadata": {},
   "outputs": [],
   "source": [
    "# !lpad webgui"
   ]
  },
  {
   "cell_type": "markdown",
   "id": "civic-sauce",
   "metadata": {},
   "source": [
    "Note that there are options to run the web site in a server mode, try lpad webgui -h to see all the options.\n",
    "\n",
    "open: http://localhost:8888/proxy/5000"
   ]
  },
  {
   "cell_type": "markdown",
   "id": "explicit-denial",
   "metadata": {},
   "source": [
    "## Python code\n",
    "\n",
    "The following Python code achieves the same behavior:"
   ]
  },
  {
   "cell_type": "code",
   "execution_count": null,
   "id": "cutting-modification",
   "metadata": {},
   "outputs": [],
   "source": [
    "from fireworks import Firework, Workflow, LaunchPad, ScriptTask\n",
    "from fireworks.core.rocket_launcher import rapidfire\n",
    "\n",
    "# set up the LaunchPad and reset it\n",
    "launchpad = LaunchPad(host='mongo')\n",
    "launchpad.reset('', require_password=False)\n",
    "\n",
    "# create the individual FireWorks and Workflow\n",
    "fw1 = Firework(ScriptTask.from_str('echo \"hello\"'), name=\"hello\")\n",
    "fw2 = Firework(ScriptTask.from_str('echo \"goodbye\"'), name=\"goodbye\")\n",
    "wf = Workflow([fw1, fw2], {fw1:fw2}, name=\"test workflow\")\n",
    "\n",
    "# store workflow and launch it locally\n",
    "launchpad.add_wf(wf)\n",
    "rapidfire(launchpad)\n"
   ]
  },
  {
   "cell_type": "markdown",
   "id": "allied-lesson",
   "metadata": {},
   "source": [
    "In the code above, the `{fw1:fw2}` argument to Workflow is adding a dependency of fw2 to fw1. You could instead define this dependency when defining your FireWorks:"
   ]
  },
  {
   "cell_type": "code",
   "execution_count": null,
   "id": "interstate-intervention",
   "metadata": {},
   "outputs": [],
   "source": [
    "fw1 = Firework(ScriptTask.from_str('echo \"hello\"'), name=\"hello\")\n",
    "fw2 = Firework(ScriptTask.from_str('echo \"goodbye\"'), name=\"goodbye\", parents=[fw1])\n",
    "wf = Workflow([fw1, fw2], name=\"test workflow\")"
   ]
  },
  {
   "cell_type": "code",
   "execution_count": null,
   "id": "speaking-institution",
   "metadata": {},
   "outputs": [],
   "source": []
  },
  {
   "cell_type": "code",
   "execution_count": null,
   "id": "devoted-treat",
   "metadata": {},
   "outputs": [],
   "source": []
  }
 ],
 "metadata": {
  "kernelspec": {
   "display_name": "Python 3",
   "language": "python",
   "name": "python3"
  },
  "language_info": {
   "codemirror_mode": {
    "name": "ipython",
    "version": 3
   },
   "file_extension": ".py",
   "mimetype": "text/x-python",
   "name": "python",
   "nbconvert_exporter": "python",
   "pygments_lexer": "ipython3",
   "version": "3.8.6"
  }
 },
 "nbformat": 4,
 "nbformat_minor": 5
}
