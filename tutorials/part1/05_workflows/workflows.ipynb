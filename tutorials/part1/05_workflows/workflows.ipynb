{
 "cells": [
  {
   "cell_type": "markdown",
   "id": "invalid-yellow",
   "metadata": {},
   "source": [
    "# Creating Workflows\n",
    "\n",
    "In this tutorial, we’ll explore how to:\n",
    "\n",
    "* connect together multiple FireWorks into Workflows\n",
    "\n",
    "## The simplest workflow\n",
    "\n",
    "The simplest workflow consists of two jobs without any data dependency between them. The only constraint is that the second job should be executed after the first.\n",
    "\n",
    "For example, we might want print the first two lines of Hamlet’s soliloquy to the standard out (e.g., your Terminal window). We can represent the workflow with the following diagram:\n",
    "\n",
    "![firetask](images/hamlet_wf.png)\n",
    "\n",
    "\n",
    "Basically, we just want to ensure that “To be, or not to be,” is printed out before “that is the question:”. Let’s define and execute this workflow."
   ]
  },
  {
   "cell_type": "code",
   "execution_count": null,
   "id": "alleged-drinking",
   "metadata": {},
   "outputs": [],
   "source": [
    "from fireworks import Firework, Workflow, FWorker, LaunchPad, ScriptTask\n",
    "from fireworks.core.rocket_launcher import rapidfire\n",
    "\n",
    "# set up the LaunchPad and reset it\n",
    "launchpad = LaunchPad.auto_load()\n",
    "launchpad.reset('', require_password=False)\n",
    "\n",
    "# define four individual FireWorks used in the Workflow\n",
    "task1 = ScriptTask.from_str('echo \"To be, or not to be,\"')\n",
    "task2 = ScriptTask.from_str('echo \"that is the question:\"')\n",
    "\n",
    "fw1 = Firework(task1)\n",
    "fw2 = Firework(task2)\n",
    "\n",
    "# assemble Workflow from FireWorks and their connections by id\n",
    "workflow = Workflow([fw1, fw2], {fw1: [fw2]})\n",
    "\n",
    "# store workflow and launch it locally\n",
    "launchpad.add_wf(workflow)"
   ]
  },
  {
   "cell_type": "markdown",
   "id": "right-access",
   "metadata": {},
   "source": [
    "## A Diamond Workflow\n",
    "\n",
    "Let’s continue with a very similar example, but make the workflow a little more intricate. We will now print the org chart of a company. Of course, CEOs should be printed before managers, and managers before interns:\n",
    "\n",
    "![firetask](images/org_wf.png)"
   ]
  },
  {
   "cell_type": "code",
   "execution_count": null,
   "id": "olive-christopher",
   "metadata": {},
   "outputs": [],
   "source": [
    "from fireworks import Firework, Workflow, FWorker, LaunchPad, ScriptTask\n",
    "from fireworks.core.rocket_launcher import rapidfire\n",
    "\n",
    "# set up the LaunchPad and reset it\n",
    "launchpad = LaunchPad.auto_load()\n",
    "launchpad.reset('', require_password=False)\n",
    "\n",
    "# define four individual FireWorks used in the Workflow\n",
    "task1 = ScriptTask.from_str('echo \"Ingrid is the CEO.\"')\n",
    "task2 = ScriptTask.from_str('echo \"Jill is a manager.\"')\n",
    "task3 = ScriptTask.from_str('echo \"Jack is a manager.\"')\n",
    "task4 = ScriptTask.from_str('echo \"Kip is an intern.\"')\n",
    "\n",
    "fw1 = Firework(task1)\n",
    "fw2 = Firework(task2)\n",
    "fw3 = Firework(task3)\n",
    "fw4 = Firework(task4)\n",
    "\n",
    "# assemble Workflow from FireWorks and their connections by id\n",
    "workflow = Workflow([fw1, fw2, fw3, fw4], {fw1: [fw2, fw3], fw2: [fw4], fw3: [fw4]})\n",
    "\n",
    "# store workflow and launch it locally\n",
    "launchpad.add_wf(workflow)"
   ]
  }
 ],
 "metadata": {
  "kernelspec": {
   "display_name": "Python 3",
   "language": "python",
   "name": "python3"
  },
  "language_info": {
   "codemirror_mode": {
    "name": "ipython",
    "version": 3
   },
   "file_extension": ".py",
   "mimetype": "text/x-python",
   "name": "python",
   "nbconvert_exporter": "python",
   "pygments_lexer": "ipython3",
   "version": "3.8.8"
  }
 },
 "nbformat": 4,
 "nbformat_minor": 5
}
