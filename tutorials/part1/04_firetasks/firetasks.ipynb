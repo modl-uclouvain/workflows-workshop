{
 "cells": [
  {
   "cell_type": "markdown",
   "id": "flexible-meditation",
   "metadata": {},
   "source": [
    "# Defining Jobs using Firetasks\n",
    "\n",
    "This tutorial shows you how to:\n",
    "\n",
    "* Run multiple tasks within a single Firework\n",
    "\n",
    "* Run tasks that are defined within a Python function, rather than a shell script\n",
    "\n",
    "## Introduction to Firetasks\n",
    "\n",
    "In the Introductory tutorial, we ran a simple script that performed ```echo \"howdy, your job launched successfully!\" >> howdy.txt\"```. Looking inside fw_test.yaml, recall that the command was defined within a task labeled ScriptTask:\n",
    "\n",
    "```spec:\n",
    "  _tasks:\n",
    "  - _fw_name: ScriptTask\n",
    "    script: echo \"howdy, your job launched successfully!\" >> howdy.txt\n",
    "```\n",
    "\n",
    "The ScriptTask is one type of Firetask, which is a predefined job template written in Python. The ScriptTask in particular refers Python code inside FireWorks that runs an arbitrary shell script that you give it. You can use the ScriptTask to run almost any job (without worrying that it’s all done within a Python layer). However, you might want to set up jobs that are more powerful than shell scripts using Python programming. Later in this section, we’ll demonstrate how to accomplish this with custom Firetasks. However, first we’ll demonstrate the simplest version to linearly run multiple tasks.\n",
    "\n",
    "## Running multiple Firetasks\n",
    "\n",
    "You can run multiple tasks within the same Firework. For example, the first step of your Firework might write an input file that the second step reads and processes. Finally, a third step might move the entire output directory somewhere else on your filesystem (or a remote server, or insert results in a database).\n",
    "\n",
    "Let’s create a Firework that:\n",
    "\n",
    "* Writes an input file based on a template with some substitutions applied. We’ll do this using a built-in TemplateWriterTask that can help create such files.\n",
    "\n",
    "* Executes a script using ScriptTask that reads the input file and produces some output. In our test case, it will just count the number of words in that file. However, this code could be any program, for example a chemistry code.\n",
    "\n",
    "* Copies all your outputs to your home directory using FileTransferTask.\n",
    "\n",
    "The three-step Firework thus looks like this:\n",
    "\n",
    "![firetask](images/templatetask.png)\n",
    "\n",
    "Let's create our three-step Firework with python:"
   ]
  },
  {
   "cell_type": "code",
   "execution_count": null,
   "id": "processed-montreal",
   "metadata": {},
   "outputs": [],
   "source": [
    "from fireworks import Firework, FWorker, LaunchPad, ScriptTask, TemplateWriterTask, FileTransferTask\n",
    "from fireworks.core.rocket_launcher import launch_rocket\n",
    "\n",
    "# set up the LaunchPad and reset it\n",
    "launchpad = LaunchPad.auto_load()\n",
    "launchpad.reset('', require_password=False)\n",
    "\n",
    "# create the Firework consisting of multiple tasks\n",
    "firetask1 = TemplateWriterTask({'context': {'opt1': 5.0, 'opt2': 'fast method'}, 'template_file': 'simple_template.txt', 'output_file': 'inputs.txt'})\n",
    "firetask2 = ScriptTask.from_str('wc -w < inputs.txt > words.txt')\n",
    "firetask3 = FileTransferTask({'files': [{'src': 'words.txt', 'dest': '~/words.txt'}], 'mode': 'copy'})\n",
    "fw = Firework([firetask1, firetask2, firetask3])\n",
    "\n",
    "# store workflow and launch it locally, single shot\n",
    "launchpad.add_wf(fw)"
   ]
  },
  {
   "cell_type": "markdown",
   "id": "published-accounting",
   "metadata": {},
   "source": [
    "Let's play around in the terminal with ```lpad``` to look at what is in the database and then submit our job using ```qlaunch```.\n",
    "\n",
    "After having run this firework, you should see two files written out to the system, inputs.txt and words.txt, confirming that you successfully ran the first two steps of your job! You can also navigate to your home directory and look for words.txt to make sure the third step also got completed correctly."
   ]
  },
  {
   "cell_type": "markdown",
   "id": "modern-morgan",
   "metadata": {},
   "source": [
    "## Creating a custom Firetask\n",
    "\n",
    "The TemplateWriterTask, ScriptTask, FileTransferTask are built-into FireWorks and can be used to perform useful operations. In fact, they might be all you need! In particular, because the ScriptTask can run arbitrary shell scripts, it can in theory run any type of computation and is an ‘all-encompassing’ Firetask. ScriptTask also has many additional features (see Fireworks documentation).\n",
    "\n",
    "However, if you are comfortable with some basic Python, you can define your own custom Firetasks for the codes you run. A custom Firetask gives you more control over your jobs, clarifies the usage of your code, and guards against unintended behavior by restricting the commands that can be executed.\n",
    "\n",
    "Here, we’ll be creating a custom Firetask that adds one or more numbers using Python’s sum() function, and later building workflows using this (and similar) Firetasks.\n",
    "\n",
    "### How FireWorks bootstraps a job\n",
    "\n",
    "Before diving into an example of custom Firetask, it is worth understanding how FireWorks is bootstrapping jobs based on your specification. The basic process looks like this:\n",
    "\n",
    "![firetask](images/spec_sketch.png)\n",
    "\n",
    "\n",
    "1. The first step of the image just shows how the spec section of the Firework is structured. There is a section that contains your Firetasks (one or many), as we saw in the previous examples. The spec also allows you to define arbitrary JSON data (labeled input in the diagram) to pass into your Firetasks as input. So far, we haven’t seen an example of this; the only information we gave in the spec in the previous examples was within the _tasks section.\n",
    "\n",
    "2. In the second step, FireWorks dynamically loads Python objects based on your specified _tasks. It does this by searching a list of Python packages for Python objects that have a value of _fw_name that match your setting. When we set a _fw_name of ScriptTask in the previous examples, FireWorks was loading a Python object with a _fw_name class variable set to ScriptTask (and passing the script parameter to its constructor). The ScriptTask is just one type of Firetask that’s built into FireWorks to help you run scripts easily. You can write code for custom Firetasks anywhere in the user_packages directory of FireWorks, and it will automatically be discovered. If you want to place your Firetasks in a package outside of FireWorks, please read the FireWorks configuration tutorial. You will just need to define what Python packages to search for your custom Firetasks, or use a special format that allows for direct loading of classes.\n",
    "\n",
    "3. In the third step, we execute the code of the Firetask we loaded. Specifically, we execute the run_task method which must be implemented for every Firetask. FireWorks passes in the entire spec to the run_task method; the run_task method can therefore modify its behavior based on any input data present in the spec, or by detecting previous or future tasks in the spec.\n",
    "\n",
    "4. When the Firetask is done executing, it returns a FWAction object that can modify the workflow (or continue as usual) and pass information to downstream FireWorks.\n",
    "\n",
    "### Custom Firetask example: Addition Task\n",
    "\n",
    "Let’s explore custom Firetasks with an example: a custom Python script for adding two numbers specified in the spec.\n",
    "\n",
    "Let’s first look at what a custom Firetask looks like in Python. Look inside the file addition_task.py which defines the Addition Task:\n",
    "\n",
    "```from fireworks import FiretaskBase, FWAction\n",
    "\n",
    "class AdditionTask(FiretaskBase):\n",
    "\n",
    "   _fw_name = \"Addition Task\"\n",
    "\n",
    "   def run_task(self, fw_spec):\n",
    "       input_array = fw_spec['input_array']\n",
    "       m_sum = sum(input_array)\n",
    "\n",
    "       print(\"The sum of {} is: {}\".format(input_array, m_sum))\n",
    "\n",
    "       return FWAction(stored_data={'sum': m_sum}, mod_spec=[{'_push': {'input_array': m_sum}}])\n",
    "```\n"
   ]
  },
  {
   "cell_type": "markdown",
   "id": "northern-edition",
   "metadata": {},
   "source": [
    "A few notes about what’s going on (things will be clearer after the next step):\n",
    "\n",
    "* In the class definition, we are extending FiretaskBase to tell FireWorks that this is a Firetask.\n",
    "\n",
    "* A special parameter named _fw_name is set to Addition Task. This parameter sets what this Firetask will be called by the outside world and is used to bootstrap the object, as described in the previous section.\n",
    "\n",
    "* The run_task() method is a special method name that gets called when the task is run. It can take in a Firework specification (spec) in order to modify its behavior.\n",
    "\n",
    "* When executing run_task(), the AdditionTask we defined first reads the input_array parameter of the Firework’s spec. It then sums all the values it finds in the input_array parameter of the Firework’s spec using Python’s sum() function. Next, the Firetask prints the inputs and the sum to the standard out. Finally, the task returns a FWAction object.\n",
    "\n",
    "* The FWAction is giving two instructions. The first says we should store the sum we computed in the database (inside the Firework’s stored_data section). The second will pass the results on to any downstream FireTask or FireWork in the workflow as part of the spec inside a key called input_array.\n",
    "\n"
   ]
  },
  {
   "cell_type": "markdown",
   "id": "smart-leader",
   "metadata": {},
   "source": [
    "Now let’s define a Firework that runs this Firetask to add the numbers 1 and 2. Look inside the file fw_adder.yaml for this new Firework definition:\n",
    "\n",
    "```\n",
    "spec:\n",
    "  _tasks:\n",
    "  - _fw_name: Addition Task\n",
    "    parameters: {}\n",
    "  input_array:\n",
    "  - 1\n",
    "  - 2\n",
    "```\n",
    "\n",
    "Let's add this to the Fireworks database:"
   ]
  },
  {
   "cell_type": "code",
   "execution_count": null,
   "id": "confident-messenger",
   "metadata": {
    "scrolled": true
   },
   "outputs": [],
   "source": [
    "from fireworks import Firework, FWorker, LaunchPad\n",
    "from fireworks.core.rocket_launcher import launch_rocket\n",
    "from fw_tutorials.firetask.addition_task import AdditionTask\n",
    "\n",
    "# set up the LaunchPad and reset it\n",
    "launchpad = LaunchPad.auto_load()\n",
    "launchpad.reset('', require_password=False)\n",
    "\n",
    "# create the Firework consisting of a custom \"Addition\" task\n",
    "firework = Firework(AdditionTask(), spec={\"input_array\": [1, 2]})\n",
    "\n",
    "# store workflow and launch it locally\n",
    "launchpad.add_wf(firework)"
   ]
  },
  {
   "cell_type": "markdown",
   "id": "acoustic-costume",
   "metadata": {},
   "source": [
    "... and submit our job to the queue:"
   ]
  },
  {
   "cell_type": "code",
   "execution_count": null,
   "id": "bizarre-gamma",
   "metadata": {
    "scrolled": true
   },
   "outputs": [],
   "source": [
    "!qlaunch singleshot"
   ]
  },
  {
   "cell_type": "markdown",
   "id": "false-happening",
   "metadata": {},
   "source": [
    "Confirm that the sum is not only printed to the screen, but also stored in our Firework in the stored_data section:"
   ]
  },
  {
   "cell_type": "code",
   "execution_count": null,
   "id": "valid-athletics",
   "metadata": {
    "scrolled": true
   },
   "outputs": [],
   "source": [
    "!lpad get_fws -i 1 -d all"
   ]
  }
 ],
 "metadata": {
  "kernelspec": {
   "display_name": "Python 3",
   "language": "python",
   "name": "python3"
  },
  "language_info": {
   "codemirror_mode": {
    "name": "ipython",
    "version": 3
   },
   "file_extension": ".py",
   "mimetype": "text/x-python",
   "name": "python",
   "nbconvert_exporter": "python",
   "pygments_lexer": "ipython3",
   "version": "3.8.8"
  }
 },
 "nbformat": 4,
 "nbformat_minor": 5
}
